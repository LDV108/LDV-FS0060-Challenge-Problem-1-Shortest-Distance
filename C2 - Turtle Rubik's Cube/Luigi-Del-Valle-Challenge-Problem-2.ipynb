{
 "cells": [
  {
   "cell_type": "code",
   "execution_count": 2,
   "id": "initial_id",
   "metadata": {
    "collapsed": true,
    "ExecuteTime": {
     "end_time": "2023-10-17T09:25:16.038686300Z",
     "start_time": "2023-10-17T09:25:15.579536500Z"
    }
   },
   "outputs": [
    {
     "ename": "Terminator",
     "evalue": "",
     "output_type": "error",
     "traceback": [
      "\u001B[1;31m---------------------------------------------------------------------------\u001B[0m",
      "\u001B[1;31mTerminator\u001B[0m                                Traceback (most recent call last)",
      "Cell \u001B[1;32mIn[2], line 3\u001B[0m\n\u001B[0;32m      1\u001B[0m \u001B[38;5;28;01mfrom\u001B[39;00m \u001B[38;5;21;01mturtle\u001B[39;00m \u001B[38;5;28;01mimport\u001B[39;00m \u001B[38;5;241m*\u001B[39m\n\u001B[1;32m----> 3\u001B[0m t \u001B[38;5;241m=\u001B[39m \u001B[43mTurtle\u001B[49m\u001B[43m(\u001B[49m\u001B[43m)\u001B[49m\n\u001B[0;32m      5\u001B[0m OUTLINE \u001B[38;5;241m=\u001B[39m \u001B[38;5;124m\"\u001B[39m\u001B[38;5;124mblack\u001B[39m\u001B[38;5;124m\"\u001B[39m\n\u001B[0;32m      6\u001B[0m DIS \u001B[38;5;241m=\u001B[39m \u001B[38;5;241m50\u001B[39m\n",
      "File \u001B[1;32mC:\\Users\\LDV\\anaconda3\\Lib\\turtle.py:3831\u001B[0m, in \u001B[0;36mTurtle.__init__\u001B[1;34m(self, shape, undobuffersize, visible)\u001B[0m\n\u001B[0;32m   3829\u001B[0m \u001B[38;5;28;01mif\u001B[39;00m Turtle\u001B[38;5;241m.\u001B[39m_screen \u001B[38;5;129;01mis\u001B[39;00m \u001B[38;5;28;01mNone\u001B[39;00m:\n\u001B[0;32m   3830\u001B[0m     Turtle\u001B[38;5;241m.\u001B[39m_screen \u001B[38;5;241m=\u001B[39m Screen()\n\u001B[1;32m-> 3831\u001B[0m \u001B[43mRawTurtle\u001B[49m\u001B[38;5;241;43m.\u001B[39;49m\u001B[38;5;21;43m__init__\u001B[39;49m\u001B[43m(\u001B[49m\u001B[38;5;28;43mself\u001B[39;49m\u001B[43m,\u001B[49m\u001B[43m \u001B[49m\u001B[43mTurtle\u001B[49m\u001B[38;5;241;43m.\u001B[39;49m\u001B[43m_screen\u001B[49m\u001B[43m,\u001B[49m\n\u001B[0;32m   3832\u001B[0m \u001B[43m                   \u001B[49m\u001B[43mshape\u001B[49m\u001B[38;5;241;43m=\u001B[39;49m\u001B[43mshape\u001B[49m\u001B[43m,\u001B[49m\n\u001B[0;32m   3833\u001B[0m \u001B[43m                   \u001B[49m\u001B[43mundobuffersize\u001B[49m\u001B[38;5;241;43m=\u001B[39;49m\u001B[43mundobuffersize\u001B[49m\u001B[43m,\u001B[49m\n\u001B[0;32m   3834\u001B[0m \u001B[43m                   \u001B[49m\u001B[43mvisible\u001B[49m\u001B[38;5;241;43m=\u001B[39;49m\u001B[43mvisible\u001B[49m\u001B[43m)\u001B[49m\n",
      "File \u001B[1;32mC:\\Users\\LDV\\anaconda3\\Lib\\turtle.py:2558\u001B[0m, in \u001B[0;36mRawTurtle.__init__\u001B[1;34m(self, canvas, shape, undobuffersize, visible)\u001B[0m\n\u001B[0;32m   2556\u001B[0m \u001B[38;5;28mself\u001B[39m\u001B[38;5;241m.\u001B[39m_undobuffersize \u001B[38;5;241m=\u001B[39m undobuffersize\n\u001B[0;32m   2557\u001B[0m \u001B[38;5;28mself\u001B[39m\u001B[38;5;241m.\u001B[39mundobuffer \u001B[38;5;241m=\u001B[39m Tbuffer(undobuffersize)\n\u001B[1;32m-> 2558\u001B[0m \u001B[38;5;28;43mself\u001B[39;49m\u001B[38;5;241;43m.\u001B[39;49m\u001B[43m_update\u001B[49m\u001B[43m(\u001B[49m\u001B[43m)\u001B[49m\n",
      "File \u001B[1;32mC:\\Users\\LDV\\anaconda3\\Lib\\turtle.py:2661\u001B[0m, in \u001B[0;36mRawTurtle._update\u001B[1;34m(self)\u001B[0m\n\u001B[0;32m   2659\u001B[0m     \u001B[38;5;28;01mreturn\u001B[39;00m\n\u001B[0;32m   2660\u001B[0m \u001B[38;5;28;01melif\u001B[39;00m screen\u001B[38;5;241m.\u001B[39m_tracing \u001B[38;5;241m==\u001B[39m \u001B[38;5;241m1\u001B[39m:\n\u001B[1;32m-> 2661\u001B[0m     \u001B[38;5;28;43mself\u001B[39;49m\u001B[38;5;241;43m.\u001B[39;49m\u001B[43m_update_data\u001B[49m\u001B[43m(\u001B[49m\u001B[43m)\u001B[49m\n\u001B[0;32m   2662\u001B[0m     \u001B[38;5;28mself\u001B[39m\u001B[38;5;241m.\u001B[39m_drawturtle()\n\u001B[0;32m   2663\u001B[0m     screen\u001B[38;5;241m.\u001B[39m_update()                  \u001B[38;5;66;03m# TurtleScreenBase\u001B[39;00m\n",
      "File \u001B[1;32mC:\\Users\\LDV\\anaconda3\\Lib\\turtle.py:2647\u001B[0m, in \u001B[0;36mRawTurtle._update_data\u001B[1;34m(self)\u001B[0m\n\u001B[0;32m   2646\u001B[0m \u001B[38;5;28;01mdef\u001B[39;00m \u001B[38;5;21m_update_data\u001B[39m(\u001B[38;5;28mself\u001B[39m):\n\u001B[1;32m-> 2647\u001B[0m     \u001B[38;5;28;43mself\u001B[39;49m\u001B[38;5;241;43m.\u001B[39;49m\u001B[43mscreen\u001B[49m\u001B[38;5;241;43m.\u001B[39;49m\u001B[43m_incrementudc\u001B[49m\u001B[43m(\u001B[49m\u001B[43m)\u001B[49m\n\u001B[0;32m   2648\u001B[0m     \u001B[38;5;28;01mif\u001B[39;00m \u001B[38;5;28mself\u001B[39m\u001B[38;5;241m.\u001B[39mscreen\u001B[38;5;241m.\u001B[39m_updatecounter \u001B[38;5;241m!=\u001B[39m \u001B[38;5;241m0\u001B[39m:\n\u001B[0;32m   2649\u001B[0m         \u001B[38;5;28;01mreturn\u001B[39;00m\n",
      "File \u001B[1;32mC:\\Users\\LDV\\anaconda3\\Lib\\turtle.py:1293\u001B[0m, in \u001B[0;36mTurtleScreen._incrementudc\u001B[1;34m(self)\u001B[0m\n\u001B[0;32m   1291\u001B[0m \u001B[38;5;28;01mif\u001B[39;00m \u001B[38;5;129;01mnot\u001B[39;00m TurtleScreen\u001B[38;5;241m.\u001B[39m_RUNNING:\n\u001B[0;32m   1292\u001B[0m     TurtleScreen\u001B[38;5;241m.\u001B[39m_RUNNING \u001B[38;5;241m=\u001B[39m \u001B[38;5;28;01mTrue\u001B[39;00m\n\u001B[1;32m-> 1293\u001B[0m     \u001B[38;5;28;01mraise\u001B[39;00m Terminator\n\u001B[0;32m   1294\u001B[0m \u001B[38;5;28;01mif\u001B[39;00m \u001B[38;5;28mself\u001B[39m\u001B[38;5;241m.\u001B[39m_tracing \u001B[38;5;241m>\u001B[39m \u001B[38;5;241m0\u001B[39m:\n\u001B[0;32m   1295\u001B[0m     \u001B[38;5;28mself\u001B[39m\u001B[38;5;241m.\u001B[39m_updatecounter \u001B[38;5;241m+\u001B[39m\u001B[38;5;241m=\u001B[39m \u001B[38;5;241m1\u001B[39m\n",
      "\u001B[1;31mTerminator\u001B[0m: "
     ]
    }
   ],
   "source": [
    "from turtle import *\n",
    "\n",
    "t = Turtle()\n",
    "\n",
    "OUTLINE = \"black\"\n",
    "DIS = 50\n",
    "ANG = 30\n",
    "\n",
    "cO = \"orange\"\n",
    "cW = \"white\"\n",
    "cR = \"red\"\n",
    "cG = \"green\"\n",
    "cY = \"yellow\"\n",
    "cB = \"blue\"\n",
    "\n",
    "topColour = [cO,cW,cW,cR,cY,cG,cW,cO,cB]\n",
    "leftColour = [cG,cR,cY,cB,cB,cO,cR,cW,cY]\n",
    "rightColour = [cG,cY,cR,cB,cR,cY,cR,cR,cO]\n",
    "\n",
    "t.pensize(3)\n",
    "t.speed(0)\n",
    "\n",
    "def topSide():\n",
    "    count = 0\n",
    "    t.left(ANG)\n",
    "    for i in range(3):\n",
    "        for j in range(3):\n",
    "            makeSQ(topColour[count])\n",
    "            t.left(ANG*2)\n",
    "            t.forward(DIS)\n",
    "            count += 1\n",
    "            print(count)\n",
    "\n",
    "        t.left(ANG*4)\n",
    "        t.forward(DIS)\n",
    "        t.left(ANG*2)\n",
    "        t.forward(DIS*3)\n",
    "        t.left(ANG*6)\n",
    "\n",
    "def makeSQ(colour):\n",
    "    c = colour\n",
    "    t.color(OUTLINE,c)\n",
    "    t.begin_fill()\n",
    "    t.forward(DIS)\n",
    "    t.left(ANG*4)\n",
    "    t.forward(DIS)\n",
    "    t.left(ANG*2)\n",
    "    t.forward(DIS)\n",
    "    t.left(ANG*4)\n",
    "    t.forward(DIS)\n",
    "    t.end_fill()\n",
    "\n",
    "def leftSide():\n",
    "\n",
    "    count = 0\n",
    "    t.right(ANG * 4)\n",
    "    t.forward(DIS*3)\n",
    "    t.left(ANG*2)\n",
    "\n",
    "    for i in range(3):\n",
    "        for j in range(3):\n",
    "            makeSQ(leftColour[count])\n",
    "            t.left(ANG * 2)\n",
    "            t.forward(DIS)\n",
    "            count += 1\n",
    "            print(count)\n",
    "\n",
    "        t.left(ANG * 4)\n",
    "        t.forward(DIS)\n",
    "        t.left(ANG * 2)\n",
    "        t.forward(DIS * 3)\n",
    "        t.left(ANG * 6)\n",
    "\n",
    "def rightSide():\n",
    "\n",
    "    count = 0\n",
    "    t.forward(DIS*3)\n",
    "    t.right(ANG*2)\n",
    "\n",
    "    for i in range(3):\n",
    "        for j in range(3):\n",
    "            makeSQ(rightColour[count])\n",
    "            t.left(ANG * 2)\n",
    "            t.forward(DIS)\n",
    "            count += 1\n",
    "            print(count)\n",
    "\n",
    "        t.left(ANG * 4)\n",
    "        t.forward(DIS)\n",
    "        t.left(ANG * 2)\n",
    "        t.forward(DIS * 3)\n",
    "        t.left(ANG * 6)\n",
    "\n",
    "\n",
    "topSide()\n",
    "leftSide()\n",
    "rightSide()\n",
    "\n",
    "\n",
    "\n",
    "\n",
    "\n",
    "\n",
    "\n",
    "\n",
    "mainloop()"
   ]
  },
  {
   "cell_type": "code",
   "execution_count": 1,
   "outputs": [],
   "source": [],
   "metadata": {
    "collapsed": false,
    "ExecuteTime": {
     "end_time": "2023-10-13T12:25:08.862645400Z",
     "start_time": "2023-10-13T12:25:08.851124900Z"
    }
   },
   "id": "16af923fa79aba1e"
  },
  {
   "cell_type": "code",
   "execution_count": null,
   "outputs": [],
   "source": [],
   "metadata": {
    "collapsed": false
   },
   "id": "e3fd36ff1994305f"
  }
 ],
 "metadata": {
  "kernelspec": {
   "display_name": "Python 3",
   "language": "python",
   "name": "python3"
  },
  "language_info": {
   "codemirror_mode": {
    "name": "ipython",
    "version": 2
   },
   "file_extension": ".py",
   "mimetype": "text/x-python",
   "name": "python",
   "nbconvert_exporter": "python",
   "pygments_lexer": "ipython2",
   "version": "2.7.6"
  }
 },
 "nbformat": 4,
 "nbformat_minor": 5
}
