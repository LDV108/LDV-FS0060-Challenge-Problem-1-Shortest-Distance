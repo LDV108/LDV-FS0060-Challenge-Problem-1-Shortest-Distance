{
 "cells": [
  {
   "cell_type": "code",
   "execution_count": 3,
   "id": "initial_id",
   "metadata": {
    "collapsed": true,
    "ExecuteTime": {
     "end_time": "2023-10-11T17:06:36.934530500Z",
     "start_time": "2023-10-11T17:06:36.928075600Z"
    }
   },
   "outputs": [
    {
     "name": "stdout",
     "output_type": "stream",
     "text": [
      "//\n",
      "Central angle: 1.407583593450556 rads\n",
      "Calculated result: 8967.841756396903 km\n",
      "Expected result: 8472 km\n"
     ]
    }
   ],
   "source": [
    "import math\n",
    "\n",
    "# 52.6369° N, 1.1398° W - LE\n",
    "# 37.7749° N, 122.4194° W - SF\n",
    "# Earth radius = 6.371 km\n",
    "\n",
    "EARTH_RADIUS = 6371.09\n",
    "DEG_TO_KM = 111.32\n",
    "LE_LONG = 52.6369\n",
    "LE_LAT = 1.1398\n",
    "SF_LONG = 37.7749\n",
    "SF_LAT = 122.4194\n",
    "EXPECTED_RESULT = 8472\n",
    "\n",
    "\n",
    "def gdc_calc(lo1, la1, lo2, la2):\n",
    "    latDiff = abs(la2 - la1)\n",
    "    longDiff = abs(lo1 - lo2)\n",
    "    cntrl_ang = math.acos((math.sin(la1) * math.sin(la2)) + (math.cos(la1) * math.cos(la2) * math.cos(longDiff)))\n",
    "    print(\"Central angle:\", cntrl_ang, \"rads\")\n",
    "    arcLen = EARTH_RADIUS * cntrl_ang\n",
    "\n",
    "    return arcLen\n",
    "\n",
    "\n",
    "def degtokm_calc(dis):\n",
    "    km = dis * DEG_TO_KM\n",
    "    return km\n",
    "\n",
    "\n",
    "def degtorad_calc(deg):\n",
    "    rad = deg * (180 / math.pi)\n",
    "    return rad\n",
    "\n",
    "\n",
    "# distanceDeg = gdc_calc(LE_LONG, LE_LAT, SF_LONG, SF_LAT)\n",
    "# print(distanceDeg)\n",
    "# distanceKM = degtokm_calc(distanceDeg)\n",
    "# print(distanceKM)\n",
    "\n",
    "print(\"//\")\n",
    "distanceDeg2 = (gdc_calc(degtorad_calc(LE_LONG), degtorad_calc(LE_LAT), degtorad_calc(SF_LONG), degtorad_calc(SF_LAT)))\n",
    "print(\"Calculated result:\" ,distanceDeg2,\"km\")\n",
    "\n",
    "# distanceKM2 = degtokm_calc(distanceDeg2)\n",
    "# print(distanceKM2,\"km\")\n",
    "\n",
    "print(\"Expected result:\" ,EXPECTED_RESULT, \"km\")"
   ]
  },
  {
   "cell_type": "code",
   "execution_count": null,
   "outputs": [],
   "source": [],
   "metadata": {
    "collapsed": false,
    "ExecuteTime": {
     "end_time": "2023-10-11T17:06:09.540279500Z",
     "start_time": "2023-10-11T17:06:09.503832100Z"
    }
   },
   "id": "b5431fdb49ebd6de"
  },
  {
   "cell_type": "code",
   "execution_count": null,
   "outputs": [],
   "source": [],
   "metadata": {
    "collapsed": false
   },
   "id": "15100e5b3d624020"
  }
 ],
 "metadata": {
  "kernelspec": {
   "display_name": "Python 3",
   "language": "python",
   "name": "python3"
  },
  "language_info": {
   "codemirror_mode": {
    "name": "ipython",
    "version": 2
   },
   "file_extension": ".py",
   "mimetype": "text/x-python",
   "name": "python",
   "nbconvert_exporter": "python",
   "pygments_lexer": "ipython2",
   "version": "2.7.6"
  }
 },
 "nbformat": 4,
 "nbformat_minor": 5
}
